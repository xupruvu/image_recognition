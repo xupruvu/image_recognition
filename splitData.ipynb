{
 "cells": [
  {
   "cell_type": "code",
   "execution_count": 1,
   "metadata": {},
   "outputs": [],
   "source": [
    "import os\n",
    "from shutil import copy\n",
    "from random import shuffle"
   ]
  },
  {
   "cell_type": "code",
   "execution_count": 2,
   "metadata": {},
   "outputs": [
    {
     "name": "stdout",
     "output_type": "stream",
     "text": [
      "banana\n",
      "bareland\n",
      "carrot\n",
      "corn\n",
      "dragonfruit\n",
      "garlic\n",
      "guava\n",
      "peanut\n",
      "pineapple\n",
      "pumpkin\n",
      "rice\n",
      "sugarcane\n",
      "tomato\n",
      "soybean\n"
     ]
    }
   ],
   "source": [
    "import random\n",
    "\n",
    "trainFolder = \"./train/\"\n",
    "testFolder = \"./test/\"\n",
    "\n",
    "source_folder = [\"banana\", \"bareland\", \"carrot\", \"corn\", \"dragonfruit\", \"garlic\", \"guava\", \"peanut\", \n",
    "                 \"pineapple\", \"pumpkin\", \"rice\", \"sugarcane\", \"tomato\", \"soybean\"]\n",
    "\n",
    "for folder in source_folder:\n",
    "    images_list = os.listdir(folder)\n",
    "    shuffle(images_list)\n",
    "    number = len(images_list)\n",
    "    index = 0\n",
    "#     print(images_list)\n",
    "    random.shuffle (images_list)\n",
    "    for image_name in images_list:\n",
    "        path = os.path.join(folder, image_name)\n",
    "        image_name = folder + \"_\" + image_name\n",
    "        #new_name_path = os.path.join(folder, image_name)\n",
    "        train_image_path = os.path.join(trainFolder, image_name)\n",
    "        test_image_path = os.path.join(testFolder, image_name)\n",
    "        #print(train_image_path)\n",
    "        if index <= 0.8*number:\n",
    "            copy(path, train_image_path)\n",
    "        else:\n",
    "            copy(path, test_image_path)\n",
    "        index += 1\n",
    "    print(folder)\n"
   ]
  },
  {
   "cell_type": "code",
   "execution_count": 6,
   "metadata": {},
   "outputs": [
    {
     "name": "stdout",
     "output_type": "stream",
     "text": [
      "Requirement already satisfied: albumentations in /opt/conda/lib/python3.8/site-packages (1.1.0)\n",
      "Requirement already satisfied: numpy>=1.11.1 in /opt/conda/lib/python3.8/site-packages (from albumentations) (1.21.2)\n",
      "Requirement already satisfied: opencv-python-headless>=4.1.1 in /opt/conda/lib/python3.8/site-packages (from albumentations) (4.5.5.64)\n",
      "Requirement already satisfied: scipy in /opt/conda/lib/python3.8/site-packages (from albumentations) (1.6.3)\n",
      "Requirement already satisfied: scikit-image>=0.16.1 in /opt/conda/lib/python3.8/site-packages (from albumentations) (0.19.2)\n",
      "Requirement already satisfied: qudida>=0.0.4 in /opt/conda/lib/python3.8/site-packages (from albumentations) (0.0.4)\n",
      "Requirement already satisfied: PyYAML in /opt/conda/lib/python3.8/site-packages (from albumentations) (5.4.1)\n",
      "Requirement already satisfied: scikit-learn>=0.19.1 in /opt/conda/lib/python3.8/site-packages (from qudida>=0.0.4->albumentations) (0.24.2)\n",
      "Requirement already satisfied: typing-extensions in /opt/conda/lib/python3.8/site-packages (from qudida>=0.0.4->albumentations) (3.10.0.0)\n",
      "Requirement already satisfied: pillow!=7.1.0,!=7.1.1,!=8.3.0,>=6.1.0 in /opt/conda/lib/python3.8/site-packages (from scikit-image>=0.16.1->albumentations) (9.0.1)\n",
      "Requirement already satisfied: tifffile>=2019.7.26 in /opt/conda/lib/python3.8/site-packages (from scikit-image>=0.16.1->albumentations) (2022.3.16)\n",
      "Requirement already satisfied: PyWavelets>=1.1.1 in /opt/conda/lib/python3.8/site-packages (from scikit-image>=0.16.1->albumentations) (1.3.0)\n",
      "Requirement already satisfied: imageio>=2.4.1 in /opt/conda/lib/python3.8/site-packages (from scikit-image>=0.16.1->albumentations) (2.16.1)\n",
      "Requirement already satisfied: networkx>=2.2 in /opt/conda/lib/python3.8/site-packages (from scikit-image>=0.16.1->albumentations) (2.7.1)\n",
      "Requirement already satisfied: packaging>=20.0 in /opt/conda/lib/python3.8/site-packages (from scikit-image>=0.16.1->albumentations) (21.3)\n",
      "Requirement already satisfied: pyparsing!=3.0.5,>=2.0.2 in /opt/conda/lib/python3.8/site-packages (from packaging>=20.0->scikit-image>=0.16.1->albumentations) (2.4.7)\n",
      "Requirement already satisfied: joblib>=0.11 in /opt/conda/lib/python3.8/site-packages (from scikit-learn>=0.19.1->qudida>=0.0.4->albumentations) (1.0.1)\n",
      "Requirement already satisfied: threadpoolctl>=2.0.0 in /opt/conda/lib/python3.8/site-packages (from scikit-learn>=0.19.1->qudida>=0.0.4->albumentations) (2.2.0)\n",
      "\u001b[33mWARNING: Running pip as the 'root' user can result in broken permissions and conflicting behaviour with the system package manager. It is recommended to use a virtual environment instead: https://pip.pypa.io/warnings/venv\u001b[0m\n",
      "Note: you may need to restart the kernel to use updated packages.\n"
     ]
    }
   ],
   "source": [
    "pip install -U albumentations"
   ]
  },
  {
   "cell_type": "code",
   "execution_count": null,
   "metadata": {},
   "outputs": [],
   "source": []
  }
 ],
 "metadata": {
  "kernelspec": {
   "display_name": "Python 3 (ipykernel)",
   "language": "python",
   "name": "python3"
  },
  "language_info": {
   "codemirror_mode": {
    "name": "ipython",
    "version": 3
   },
   "file_extension": ".py",
   "mimetype": "text/x-python",
   "name": "python",
   "nbconvert_exporter": "python",
   "pygments_lexer": "ipython3",
   "version": "3.8.10"
  }
 },
 "nbformat": 4,
 "nbformat_minor": 4
}
